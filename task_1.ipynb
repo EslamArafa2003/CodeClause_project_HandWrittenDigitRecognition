{
  "nbformat": 4,
  "nbformat_minor": 0,
  "metadata": {
    "colab": {
      "provenance": []
    },
    "kernelspec": {
      "name": "python3",
      "display_name": "Python 3"
    },
    "language_info": {
      "name": "python"
    },
    "accelerator": "GPU",
    "gpuClass": "standard"
  },
  "cells": [
    {
      "cell_type": "code",
      "execution_count": 1,
      "metadata": {
        "id": "IWmzjOztDKgm"
      },
      "outputs": [],
      "source": [
        "# Import the necessary libraries\n",
        "import tensorflow as tf\n",
        "from tensorflow import keras\n",
        "from keras.layers import Dropout\n",
        "import numpy as np\n",
        "import matplotlib.pyplot as plt"
      ]
    },
    {
      "cell_type": "code",
      "source": [
        "# Load the dataset\n",
        "mnist = keras.datasets.mnist\n",
        "(x_train, y_train), (x_test, y_test) = mnist.load_data()"
      ],
      "metadata": {
        "id": "nJtTRIdfDy8T",
        "colab": {
          "base_uri": "https://localhost:8080/"
        },
        "outputId": "8007d9a6-a3bc-4bd4-f973-aaa9fa45c5dc"
      },
      "execution_count": 2,
      "outputs": [
        {
          "output_type": "stream",
          "name": "stdout",
          "text": [
            "Downloading data from https://storage.googleapis.com/tensorflow/tf-keras-datasets/mnist.npz\n",
            "11490434/11490434 [==============================] - 2s 0us/step\n"
          ]
        }
      ]
    },
    {
      "cell_type": "code",
      "source": [
        "# Normalize the pixel values\n",
        "x_train = x_train / 255.0\n",
        "x_test = x_test / 255.0"
      ],
      "metadata": {
        "id": "wMxnEkKTEx4N"
      },
      "execution_count": 3,
      "outputs": []
    },
    {
      "cell_type": "code",
      "source": [
        "# Build the model with more layers, dropout and different activation functions\n",
        "model = keras.Sequential([\n",
        "    keras.layers.Flatten(input_shape=(28, 28)),\n",
        "    keras.layers.Dense(512, activation='relu'),\n",
        "    Dropout(0.2),\n",
        "    keras.layers.Dense(256, activation='sigmoid'),\n",
        "    Dropout(0.2),\n",
        "    keras.layers.Dense(128, activation='tanh'),\n",
        "    Dropout(0.2),\n",
        "    keras.layers.Dense(10, activation='softmax')\n",
        "])"
      ],
      "metadata": {
        "id": "lca-WIQrFO6I"
      },
      "execution_count": 4,
      "outputs": []
    },
    {
      "cell_type": "code",
      "source": [
        "# Compile the model with a different optimizer\n",
        "model.compile(optimizer='rmsprop', loss='sparse_categorical_crossentropy', metrics=['accuracy'])"
      ],
      "metadata": {
        "id": "VIn2xrz7FYg3"
      },
      "execution_count": 5,
      "outputs": []
    },
    {
      "cell_type": "code",
      "source": [
        "# Train the model with early stopping\n",
        "early_stopping = keras.callbacks.EarlyStopping(monitor='val_loss', patience=3)\n",
        "history = model.fit(x_train, y_train, epochs=50, validation_split=0.1, callbacks=[early_stopping])"
      ],
      "metadata": {
        "colab": {
          "base_uri": "https://localhost:8080/"
        },
        "id": "a5FbdtTg6_HF",
        "outputId": "62307322-c0ba-40f4-c503-8abc03db200c"
      },
      "execution_count": 6,
      "outputs": [
        {
          "output_type": "stream",
          "name": "stdout",
          "text": [
            "Epoch 1/50\n",
            "1688/1688 [==============================] - 13s 4ms/step - loss: 0.2889 - accuracy: 0.9111 - val_loss: 0.1031 - val_accuracy: 0.9693\n",
            "Epoch 2/50\n",
            "1688/1688 [==============================] - 6s 3ms/step - loss: 0.1254 - accuracy: 0.9635 - val_loss: 0.0969 - val_accuracy: 0.9725\n",
            "Epoch 3/50\n",
            "1688/1688 [==============================] - 7s 4ms/step - loss: 0.0945 - accuracy: 0.9726 - val_loss: 0.0737 - val_accuracy: 0.9788\n",
            "Epoch 4/50\n",
            "1688/1688 [==============================] - 6s 4ms/step - loss: 0.0763 - accuracy: 0.9780 - val_loss: 0.0763 - val_accuracy: 0.9790\n",
            "Epoch 5/50\n",
            "1688/1688 [==============================] - 6s 4ms/step - loss: 0.0657 - accuracy: 0.9813 - val_loss: 0.0731 - val_accuracy: 0.9813\n",
            "Epoch 6/50\n",
            "1688/1688 [==============================] - 6s 3ms/step - loss: 0.0572 - accuracy: 0.9833 - val_loss: 0.0702 - val_accuracy: 0.9817\n",
            "Epoch 7/50\n",
            "1688/1688 [==============================] - 7s 4ms/step - loss: 0.0502 - accuracy: 0.9859 - val_loss: 0.0657 - val_accuracy: 0.9830\n",
            "Epoch 8/50\n",
            "1688/1688 [==============================] - 6s 3ms/step - loss: 0.0433 - accuracy: 0.9874 - val_loss: 0.0631 - val_accuracy: 0.9847\n",
            "Epoch 9/50\n",
            "1688/1688 [==============================] - 6s 4ms/step - loss: 0.0416 - accuracy: 0.9881 - val_loss: 0.0714 - val_accuracy: 0.9837\n",
            "Epoch 10/50\n",
            "1688/1688 [==============================] - 6s 3ms/step - loss: 0.0366 - accuracy: 0.9895 - val_loss: 0.0661 - val_accuracy: 0.9865\n",
            "Epoch 11/50\n",
            "1688/1688 [==============================] - 6s 4ms/step - loss: 0.0322 - accuracy: 0.9908 - val_loss: 0.0749 - val_accuracy: 0.9840\n"
          ]
        }
      ]
    },
    {
      "cell_type": "code",
      "source": [
        "# Evaluate the model on the test data\n",
        "test_loss, test_acc = model.evaluate(x_test, y_test)\n",
        "print('Test accuracy:', test_acc)"
      ],
      "metadata": {
        "colab": {
          "base_uri": "https://localhost:8080/"
        },
        "id": "p6d25XcZ7E2M",
        "outputId": "e6c92da7-d09d-4738-9ea1-84660b22cf20"
      },
      "execution_count": 7,
      "outputs": [
        {
          "output_type": "stream",
          "name": "stdout",
          "text": [
            "313/313 [==============================] - 1s 3ms/step - loss: 0.0811 - accuracy: 0.9814\n",
            "Test accuracy: 0.9814000129699707\n"
          ]
        }
      ]
    }
  ]
}